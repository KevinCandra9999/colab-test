{
  "nbformat": 4,
  "nbformat_minor": 0,
  "metadata": {
    "colab": {
      "provenance": [],
      "authorship_tag": "ABX9TyNHBgPbbyZcdbJLTpQZq7G7",
      "include_colab_link": true
    },
    "kernelspec": {
      "name": "python3",
      "display_name": "Python 3"
    },
    "language_info": {
      "name": "python"
    }
  },
  "cells": [
    {
      "cell_type": "markdown",
      "metadata": {
        "id": "view-in-github",
        "colab_type": "text"
      },
      "source": [
        "<a href=\"https://colab.research.google.com/github/KevinCandra9999/colab-test/blob/main/autograd.ipynb\" target=\"_parent\"><img src=\"https://colab.research.google.com/assets/colab-badge.svg\" alt=\"Open In Colab\"/></a>"
      ]
    },
    {
      "cell_type": "code",
      "execution_count": 3,
      "metadata": {
        "id": "c4PyIXxomz0d"
      },
      "outputs": [],
      "source": [
        "import torch"
      ]
    },
    {
      "cell_type": "code",
      "source": [
        "w = torch.tensor([1], dtype=torch.float, requires_grad=True)"
      ],
      "metadata": {
        "id": "hBhtFSTxm7Cv"
      },
      "execution_count": 6,
      "outputs": []
    },
    {
      "cell_type": "code",
      "source": [
        "def foward(x):\n",
        "  return x * w\n",
        "\n",
        "def loss(x,y):\n",
        "  y_pred = foward(x)\n",
        "  return (y_pred - y) ** 2"
      ],
      "metadata": {
        "id": "Cwt6A17Hnk20"
      },
      "execution_count": 7,
      "outputs": []
    },
    {
      "cell_type": "code",
      "source": [
        "print(f'Predict from 1: {foward(1).data[0]}')"
      ],
      "metadata": {
        "colab": {
          "base_uri": "https://localhost:8080/"
        },
        "id": "xVyuYo9woF36",
        "outputId": "ad907c92-ab87-4018-bc69-15b96432ef5c"
      },
      "execution_count": 8,
      "outputs": [
        {
          "output_type": "stream",
          "name": "stdout",
          "text": [
            "Predict from 1: 1.0\n"
          ]
        }
      ]
    },
    {
      "cell_type": "code",
      "source": [
        "my_loss = loss (1,2)\n",
        "print(my_loss)\n",
        "\n",
        "my_loss.backward()\n",
        "print(f'gradient: 1, 2, {w.grad.data[0]}')"
      ],
      "metadata": {
        "colab": {
          "base_uri": "https://localhost:8080/"
        },
        "id": "paCX8-s5oVIl",
        "outputId": "dc43aeac-abaa-4e50-8923-2d79f5d4ecc0"
      },
      "execution_count": 9,
      "outputs": [
        {
          "output_type": "stream",
          "name": "stdout",
          "text": [
            "tensor([1.], grad_fn=<PowBackward0>)\n",
            "gradient: 1, 2, -2.0\n"
          ]
        }
      ]
    },
    {
      "cell_type": "code",
      "source": [
        "w.data = w.data - 0.1 * w.grad.data\n",
        "w.grad.zero_()\n",
        "\n",
        "print (w)"
      ],
      "metadata": {
        "colab": {
          "base_uri": "https://localhost:8080/"
        },
        "id": "0tlJWkGDoqoL",
        "outputId": "f566c1e2-b98c-4f52-cdac-2d5f1f7efe19"
      },
      "execution_count": 10,
      "outputs": [
        {
          "output_type": "stream",
          "name": "stdout",
          "text": [
            "tensor([1.2000], requires_grad=True)\n"
          ]
        }
      ]
    }
  ]
}