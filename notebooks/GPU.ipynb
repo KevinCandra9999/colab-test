{
  "nbformat": 4,
  "nbformat_minor": 0,
  "metadata": {
    "colab": {
      "provenance": [],
      "gpuType": "T4",
      "authorship_tag": "ABX9TyNd+j7coc0ZzKdYVHTmQmZV",
      "include_colab_link": true
    },
    "kernelspec": {
      "name": "python3",
      "display_name": "Python 3"
    },
    "language_info": {
      "name": "python"
    },
    "accelerator": "GPU"
  },
  "cells": [
    {
      "cell_type": "markdown",
      "metadata": {
        "id": "view-in-github",
        "colab_type": "text"
      },
      "source": [
        "<a href=\"https://colab.research.google.com/github/KevinCandra9999/colab-test/blob/main/notebooks/GPU.ipynb\" target=\"_parent\"><img src=\"https://colab.research.google.com/assets/colab-badge.svg\" alt=\"Open In Colab\"/></a>"
      ]
    },
    {
      "cell_type": "code",
      "execution_count": null,
      "metadata": {
        "id": "imTT0NIPf4zR"
      },
      "outputs": [],
      "source": [
        "import torch"
      ]
    },
    {
      "cell_type": "code",
      "source": [
        "torch.cuda.is_available()"
      ],
      "metadata": {
        "colab": {
          "base_uri": "https://localhost:8080/"
        },
        "id": "xmPjBFy7f8fB",
        "outputId": "614bde78-38b0-4916-c4a3-d6922def6093"
      },
      "execution_count": null,
      "outputs": [
        {
          "output_type": "execute_result",
          "data": {
            "text/plain": [
              "True"
            ]
          },
          "metadata": {},
          "execution_count": 4
        }
      ]
    },
    {
      "cell_type": "code",
      "source": [
        "device = torch.device('cuda')"
      ],
      "metadata": {
        "id": "E0hA2i9_gGx3"
      },
      "execution_count": null,
      "outputs": []
    },
    {
      "cell_type": "code",
      "source": [
        "a = torch.rand(3, 3)\n",
        "a"
      ],
      "metadata": {
        "colab": {
          "base_uri": "https://localhost:8080/"
        },
        "id": "bKVAVeKWgnJe",
        "outputId": "4d147d2d-ba11-43b4-eed8-6b687c3686c6"
      },
      "execution_count": null,
      "outputs": [
        {
          "output_type": "execute_result",
          "data": {
            "text/plain": [
              "tensor([[0.9806, 0.0065, 0.8125],\n",
              "        [0.5670, 0.8465, 0.1035],\n",
              "        [0.3858, 0.0450, 0.0079]])"
            ]
          },
          "metadata": {},
          "execution_count": 7
        }
      ]
    },
    {
      "cell_type": "code",
      "source": [
        "b = torch.rand(3, 3).to(device)\n",
        "b"
      ],
      "metadata": {
        "colab": {
          "base_uri": "https://localhost:8080/"
        },
        "id": "xA9Omaq-guWH",
        "outputId": "27dd9e71-4ca5-4f62-d5ea-fc411cc3c489"
      },
      "execution_count": null,
      "outputs": [
        {
          "output_type": "execute_result",
          "data": {
            "text/plain": [
              "tensor([[0.1562, 0.7440, 0.0968],\n",
              "        [0.3841, 0.8274, 0.1248],\n",
              "        [0.4645, 0.1722, 0.5838]], device='cuda:0')"
            ]
          },
          "metadata": {},
          "execution_count": 9
        }
      ]
    },
    {
      "cell_type": "code",
      "source": [
        "c = torch.rand(3,3).cuda()\n",
        "c"
      ],
      "metadata": {
        "colab": {
          "base_uri": "https://localhost:8080/"
        },
        "id": "Ua3Jzp5sg8Ie",
        "outputId": "35a682d1-2f28-4062-83ef-d40e80e199fb"
      },
      "execution_count": null,
      "outputs": [
        {
          "output_type": "execute_result",
          "data": {
            "text/plain": [
              "tensor([[0.0015, 0.7212, 0.2059],\n",
              "        [0.8384, 0.1358, 0.7634],\n",
              "        [0.0848, 0.9728, 0.4569]], device='cuda:0')"
            ]
          },
          "metadata": {},
          "execution_count": 10
        }
      ]
    },
    {
      "cell_type": "code",
      "source": [
        "import time"
      ],
      "metadata": {
        "id": "9mEscJWBhQmn"
      },
      "execution_count": null,
      "outputs": []
    },
    {
      "cell_type": "code",
      "source": [
        "start = time.time()\n",
        "a = torch.ones(400,400)\n",
        "for _ in range(10000):\n",
        "  a += a\n",
        "duration = time.time() - start\n",
        "print(f'CPU time: {duration}')\n",
        "\n",
        "\n",
        "start = time.time()\n",
        "b = torch.ones(400,400).to(device)\n",
        "for _ in range(10000):\n",
        "  b += b\n",
        "duration = time.time() - start\n",
        "print(f'GPU time: {duration}')"
      ],
      "metadata": {
        "colab": {
          "base_uri": "https://localhost:8080/"
        },
        "id": "yyCL7s5uhsjn",
        "outputId": "7f436737-1e3a-4778-8e05-801688247e41"
      },
      "execution_count": null,
      "outputs": [
        {
          "output_type": "stream",
          "name": "stdout",
          "text": [
            "CPU time: 0.2381455898284912\n",
            "GPU time: 0.060050010681152344\n"
          ]
        }
      ]
    }
  ]
}